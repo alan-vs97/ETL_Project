{
 "cells": [
  {
   "cell_type": "code",
   "execution_count": 13,
   "metadata": {},
   "outputs": [],
   "source": [
    "# Dependencies\n",
    "from bs4 import BeautifulSoup\n",
    "import requests\n",
    "from splinter import Browser\n",
    "import os\n",
    "import urllib"
   ]
  },
  {
   "cell_type": "code",
   "execution_count": 3,
   "metadata": {},
   "outputs": [
    {
     "name": "stdout",
     "output_type": "stream",
     "text": [
      "ï»¿\n",
      "<html xmlns=\"http://www.w3.org/1999/xhtml\" xmlns:msdt=\"uuid:C2F41010-65B3-11d1-A29F-00AA00C14882\" xmlns:mso=\"urn:schemas-microsoft-com:office:office\">\n",
      " <head id=\"Head1\" runat=\"server\">\n",
      "  <meta content=\"no-cache\" http-equiv=\"Pragma\"/>\n",
      "  <meta content=\"-1\" http-equiv=\"Expires\"/>\n",
      "  <title>\n",
      "   Sitio de EstadÃ­stica\n",
      "  </title>\n",
      "  <link href=\"../CSS/General.css\" rel=\"stylesheet\" type=\"text/css\"/>\n",
      "  <script language=\"javascript\" type=\"text/javascript\">\n",
      "   //vinculo();\r\n",
      "\r\n",
      "        function vinculo() {\r\n",
      "            var page = getParameterByName('page');\r\n",
      "            //alert(\"la info mandades: \" + page);\r\n",
      "            document.getElementById('cuerpo').src = page;\r\n",
      "            //alert(\"el src que quedo es: \" + document.getElementById('myIframe').src);\r\n",
      "        }\r\n",
      "        function getParameterByName(name) {\r\n",
      "            name = name.replace(/[\\[]/, \"\\\\[\").replace(/[\\]]/, \"\\\\]\");\r\n",
      "            var regex = new RegExp(\"[\\\\?&]\" + name + \"=([^&#]*)\"),\r\n",
      "        results = regex.exec(location.search);\r\n",
      "            return results == null ? \"\" : decodeURIComponent(results[1].replace(/\\+/g, \" \"));\r\n",
      "        }\n",
      "  </script>\n",
      "  <!--[if gte mso 9]><xml>\n",
      "<mso:CustomDocumentProperties>\r\n",
      "<mso:PublishingContact msdt:dt=\"string\"></mso:PublishingContact>\r\n",
      "<mso:PublishingPageContent msdt:dt=\"string\"></mso:PublishingPageContent>\r\n",
      "<mso:HeaderStyleDefinitions msdt:dt=\"string\"></mso:HeaderStyleDefinitions>\r\n",
      "<mso:Order msdt:dt=\"string\">103700.000000000</mso:Order>\r\n",
      "<mso:TemplateUrl msdt:dt=\"string\"></mso:TemplateUrl>\r\n",
      "<mso:PublishingRollupImage msdt:dt=\"string\"></mso:PublishingRollupImage>\r\n",
      "<mso:Audience msdt:dt=\"string\"></mso:Audience>\r\n",
      "<mso:ArticleStartDate msdt:dt=\"string\"></mso:ArticleStartDate>\r\n",
      "<mso:ArticleByLine msdt:dt=\"string\"></mso:ArticleByLine>\r\n",
      "<mso:PublishingImageCaption msdt:dt=\"string\"></mso:PublishingImageCaption>\r\n",
      "<mso:ContentTypeId msdt:dt=\"string\">0x010100C568DB52D9D0A14D9B2FDCC96666E9F2007948130EC3DB064584E219954237AF3900E4CFC035304FEE4FAC9FCA616D6B64F5</mso:ContentTypeId>\r\n",
      "<mso:PublishingVariationRelationshipLinkFieldID msdt:dt=\"string\"></mso:PublishingVariationRelationshipLinkFieldID>\r\n",
      "<mso:PublishingContactName msdt:dt=\"string\"></mso:PublishingContactName>\r\n",
      "<mso:PublishingContactEmail msdt:dt=\"string\"></mso:PublishingContactEmail>\r\n",
      "<mso:_SourceUrl msdt:dt=\"string\"></mso:_SourceUrl>\r\n",
      "<mso:_SharedFileIndex msdt:dt=\"string\"></mso:_SharedFileIndex>\r\n",
      "<mso:Comments msdt:dt=\"string\"></mso:Comments>\r\n",
      "<mso:PublishingPageLayout msdt:dt=\"string\"></mso:PublishingPageLayout>\r\n",
      "<mso:xd_Signature msdt:dt=\"string\"></mso:xd_Signature>\r\n",
      "<mso:PublishingPageImage msdt:dt=\"string\"></mso:PublishingPageImage>\r\n",
      "<mso:SummaryLinks msdt:dt=\"string\"></mso:SummaryLinks>\r\n",
      "<mso:xd_ProgID msdt:dt=\"string\"></mso:xd_ProgID>\r\n",
      "<mso:PublishingStartDate msdt:dt=\"string\"></mso:PublishingStartDate>\r\n",
      "<mso:PublishingExpirationDate msdt:dt=\"string\"></mso:PublishingExpirationDate>\r\n",
      "<mso:PublishingContactPicture msdt:dt=\"string\"></mso:PublishingContactPicture>\r\n",
      "<mso:PublishingVariationGroupID msdt:dt=\"string\"></mso:PublishingVariationGroupID>\r\n",
      "<mso:SummaryLinks2 msdt:dt=\"string\"></mso:SummaryLinks2>\r\n",
      "</mso:CustomDocumentProperties>\n",
      "</xml><![endif]-->\n",
      " </head>\n",
      " <body onload=\"vinculo();\" style=\"overflow: auto;\">\n",
      "  <form id=\"form1\" runat=\"server\">\n",
      "   <center>\n",
      "    <!--\r\n",
      "    <iframe frameborder=\"0\" scrolling=\"no\" id=\"encabezado\" name=\"encabezado\" src=\"encabezado.html\" height=\"145px\" \r\n",
      "    style=\"background-color:white;\" width=\"95%\"></iframe>-->\n",
      "    <div class=\"frameEncabezado\" id=\"divEncabezado\">\n",
      "    </div>\n",
      "    <div class=\"frameDatos\" id=\"divTablas\">\n",
      "     <iframe frameborder=\"0\" height=\"100%\" id=\"cuerpo\" name=\"cuerpo\" scrolling=\"auto\" src=\"\" width=\"1155\">\n",
      "     </iframe>\n",
      "    </div>\n",
      "    <div class=\"framePie\" id=\"divPie\">\n",
      "    </div>\n",
      "   </center>\n",
      "  </form>\n",
      " </body>\n",
      "</html>\n",
      "\n"
     ]
    }
   ],
   "source": [
    "# URL of page to be scraped\n",
    "url = 'http://omawww.sat.gob.mx/cifras_sat/Paginas/datos/vinculo.html?page=ListCompleta69.html'\n",
    "\n",
    "response = requests.get(url)\n",
    "\n",
    "# response.text\n",
    "\n",
    "soup = BeautifulSoup(response.text, 'html.parser')\n",
    "\n",
    "print(soup.prettify())"
   ]
  },
  {
   "cell_type": "code",
   "execution_count": 4,
   "metadata": {},
   "outputs": [],
   "source": [
    "executable_path = {'executable_path': 'c:/chromedriver.exe'}\n",
    "browser = Browser('chrome', **executable_path, headless=False)\n",
    "browser.visit(url)"
   ]
  },
  {
   "cell_type": "code",
   "execution_count": 22,
   "metadata": {},
   "outputs": [],
   "source": [
    "html = browser.html\n",
    "soup = BeautifulSoup(html, 'html.parser')\n",
    "\n",
    "base_url = \"http://omawww.sat.gob.mx/cifras_sat/Paginas/datos/\"\n",
    "\n",
    "iframes = soup.find_all('iframe')\n",
    "\n",
    "for iframe in iframes:\n",
    "    \n",
    "    response = urllib.request.urlopen(base_url + iframe.attrs['src'])\n",
    "    iframe_soup = BeautifulSoup(response)\n",
    "    \n",
    "    links = iframe_soup.find_all(\"a\")\n",
    "    \n",
    "    for link in links:\n",
    "        testfile = urllib.request.URLopener()\n",
    "        fname = link[\"href\"].split(\"/\")[-1]\n",
    "        testfile.retrieve(link[\"href\"], f\"Resources/{fname}\")"
   ]
  }
 ],
 "metadata": {
  "kernelspec": {
   "display_name": "Python 3",
   "language": "python",
   "name": "python3"
  },
  "language_info": {
   "codemirror_mode": {
    "name": "ipython",
    "version": 3
   },
   "file_extension": ".py",
   "mimetype": "text/x-python",
   "name": "python",
   "nbconvert_exporter": "python",
   "pygments_lexer": "ipython3",
   "version": "3.7.3"
  }
 },
 "nbformat": 4,
 "nbformat_minor": 2
}
